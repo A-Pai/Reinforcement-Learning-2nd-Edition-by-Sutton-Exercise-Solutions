{
 "cells": [
  {
   "cell_type": "code",
   "execution_count": 1,
   "metadata": {
    "collapsed": true
   },
   "outputs": [],
   "source": [
    "import numpy as np\n",
    "W = np.random.random((8,1))\n",
    "alpha = 0.01\n",
    "gamma = 0.99\n",
    "\n",
    "def S(i):\n",
    "    return W[i]*2+W[7]\n",
    "\n",
    "def greedy_action():  \n",
    "    return np.argmax(W)"
   ]
  },
  {
   "cell_type": "code",
   "execution_count": 2,
   "outputs": [],
   "source": [
    "def dashed():\n",
    "    dice = np.random.randint(low=0, high=6)\n",
    "    return dice\n",
    "\n",
    "def solid():\n",
    "    return 7\n",
    "\n",
    "def b():\n",
    "    dice = np.random.random()\n",
    "    if dice > 1/7:\n",
    "        return dashed()\n",
    "    else:\n",
    "        return solid()"
   ],
   "metadata": {
    "pycharm": {
     "metadata": false,
     "name": "#%%\n"
    }
   }
  },
  {
   "cell_type": "code",
   "execution_count": 3,
   "outputs": [],
   "source": [
    "def update(action):\n",
    "    global W\n",
    "    # delta = reward(=0) + gamma * greedyQ(S+t+1, greedy action. w) -  Q(S,a,w)\n",
    "    # Because Baird's special setting, we only need to care the destination of action\n",
    "    # to determine the Q, which should be equal to the next state value(one step)\n",
    "    delta = gamma*S(greedy_action()) - gamma*S(action)\n",
    "    W = W + alpha*delta*W\n",
    "    \n",
    "def game():\n",
    "    global W\n",
    "    for episode in range(1,31):\n",
    "        W = np.random.random((8,1))\n",
    "        for t in range(1,1000):\n",
    "            action = b()\n",
    "            update(action)\n",
    "            if max(W) == np.inf:\n",
    "                print('Episode',episode,'diverged at step', t)\n",
    "                break"
   ],
   "metadata": {
    "pycharm": {
     "metadata": false,
     "name": "#%%\n"
    }
   }
  },
  {
   "cell_type": "code",
   "execution_count": 4,
   "outputs": [
    {
     "name": "stdout",
     "output_type": "stream",
     "text": [
      "Episode 1 diverged at step 270\n",
      "Episode 2 diverged at step 205\n",
      "Episode 3 diverged at step 124\n",
      "Episode 4 diverged at step 153\n",
      "Episode 5 diverged at step 127\n",
      "Episode 6 diverged at step 115\n",
      "Episode 7 diverged at step 136\n",
      "Episode 8 diverged at step 195\n",
      "Episode 9 diverged at step 158\n",
      "Episode 10 diverged at step 119\n",
      "Episode 11 diverged at step 148\n",
      "Episode 12 diverged at step 149\n",
      "Episode 13 diverged at step 167\n",
      "Episode 14 diverged at step 190\n",
      "Episode 15 diverged at step 254\n",
      "Episode 16 diverged at step 193\n",
      "Episode 17 diverged at step 146\n",
      "Episode 18 diverged at step 109\n",
      "Episode 19 diverged at step 258\n",
      "Episode 20 diverged at step 145\n",
      "Episode 21 diverged at step 152\n",
      "Episode 22 diverged at step 224\n",
      "Episode 23 diverged at step 169\n",
      "Episode 24 diverged at step 174\n",
      "Episode 25 diverged at step 132\n",
      "Episode 26 diverged at step 124\n",
      "Episode 27 diverged at step 210\n",
      "Episode 28 diverged at step 133\n",
      "Episode 29 diverged at step 127\n",
      "Episode 30 diverged at step 115\n"
     ]
    },
    {
     "name": "stderr",
     "output_type": "stream",
     "text": [
      "/home/lywanglab/anaconda3/envs/lab/lib/python3.7/site-packages/ipykernel_launcher.py:7: RuntimeWarning: overflow encountered in multiply\n",
      "  import sys\n"
     ]
    }
   ],
   "source": [
    "game()"
   ],
   "metadata": {
    "pycharm": {
     "metadata": false,
     "name": "#%%\n"
    }
   }
  },
  {
   "cell_type": "code",
   "execution_count": null,
   "outputs": [],
   "source": [
    "\n"
   ],
   "metadata": {
    "collapsed": false,
    "pycharm": {
     "name": "#%%\n"
    }
   }
  }
 ],
 "metadata": {
  "language_info": {
   "codemirror_mode": {
    "name": "ipython",
    "version": 2
   },
   "file_extension": ".py",
   "mimetype": "text/x-python",
   "name": "python",
   "nbconvert_exporter": "python",
   "pygments_lexer": "ipython2",
   "version": "2.7.6"
  },
  "kernelspec": {
   "name": "python3",
   "language": "python",
   "display_name": "Python 3"
  }
 },
 "nbformat": 4,
 "nbformat_minor": 0
}