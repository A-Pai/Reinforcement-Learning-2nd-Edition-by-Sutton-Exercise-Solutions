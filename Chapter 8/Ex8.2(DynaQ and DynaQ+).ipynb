{
 "cells": [
  {
   "cell_type": "code",
   "execution_count": 18,
   "outputs": [],
   "source": [
    "from collections import defaultdict\n",
    "import numpy as np\n",
    "import random"
   ],
   "metadata": {
    "collapsed": false,
    "pycharm": {
     "name": "#%%\n"
    }
   }
  },
  {
   "cell_type": "code",
   "execution_count": null,
   "metadata": {
    "collapsed": true
   },
   "outputs": [],
   "source": [
    "class Maze():\n",
    "    def __init__(self, size, blocking_pos, goal):\n",
    "        \"\"\"\n",
    "\n",
    "        :param size: tuple (width, height)\n",
    "        :param blocking_pos: [(x,y), ...] positions of blocking mazes.\n",
    "                             Here, expect lower left corner as origin and start from 1\n",
    "        :param goal: (x,y) position of goal\n",
    "\n",
    "        Example:\n",
    "        size = (3,3)\n",
    "        blocking_pos = [(1,1)]\n",
    "        goal = (3,3)\n",
    "\n",
    "        Result Maze:\n",
    "        0 0 g\n",
    "        0 0 0\n",
    "        1 0 0\n",
    "        where 1 is blocking block and g is the goal\n",
    "        \"\"\"\n",
    "        self.width, self.height = size\n",
    "        self.blocking_pos = blocking_pos\n",
    "        self.goal = goal\n",
    "\n",
    "    def step(self, current_state, action):\n",
    "        \"\"\"\n",
    "        :param current_state: (x,y) current pos\n",
    "        :param action: action from ['up', 'down', 'right', 'left']\n",
    "        :return: reward, next_state\n",
    "        \"\"\"\n",
    "        x, y = current_state\n",
    "        dx, dy = 0, 0\n",
    "        if action == 'up':\n",
    "            dy = 1\n",
    "        elif action == 'down':\n",
    "            dy = -1\n",
    "        elif action == 'left':\n",
    "            dx = -1\n",
    "        elif action == 'right':\n",
    "            dx = 1\n",
    "        else:\n",
    "            raise ValueError\n",
    "\n",
    "        # make sure they are in bound\n",
    "        x_change = min(self.width, max(1, x+dx))\n",
    "        y_change = min(self.height, max(1, y+dy))\n",
    "\n",
    "        # make sure they are not blocked\n",
    "        if (x_change, y_change) in self.blocking_pos:\n",
    "            # rollback\n",
    "            x_change, y_change = x,y\n",
    "\n",
    "        # check goal\n",
    "        if (x_change, y_change) == self.goal:\n",
    "            reward = 1\n",
    "        else:\n",
    "            reward = 0\n",
    "\n",
    "        return reward, (x_change, y_change)"
   ]
  },
  {
   "cell_type": "code",
   "execution_count": 54,
   "outputs": [],
   "source": [
    "class DynaQ:\n",
    "    def __init__(self, alpha=0.1, gamma=0.95, eps=0.2, planning_n = 50):\n",
    "        self.alpha = alpha\n",
    "        self.gamma = gamma\n",
    "        self.eps = eps\n",
    "        self.planning_n = planning_n\n",
    "        self.action_space = ['up', 'down', 'right', 'left']\n",
    "        self.model = defaultdict(int)\n",
    "        self.Q = defaultdict(int)\n",
    "        # key in both Q and model: tuple((x,y),a)\n",
    "\n",
    "    def greedy(self, state):\n",
    "        Q_list = [self.Q[state,a] for a in self.action_space]\n",
    "        _max = max(Q_list)\n",
    "        if _max == 0:\n",
    "            # no actions has been learned\n",
    "            return np.random.choice(self.action_space)\n",
    "        else:\n",
    "            tie_actions = []\n",
    "            for i, q in enumerate(Q_list):\n",
    "                if  q == _max:\n",
    "                    tie_actions.append(self.action_space[i])\n",
    "            return np.random.choice(tie_actions)\n",
    "\n",
    "    def eps_greedy(self, state):\n",
    "        if np.random.random() > self.eps:\n",
    "            return self.greedy(state)\n",
    "        else:\n",
    "            # return a random action\n",
    "            return np.random.choice(self.action_space)\n",
    "\n",
    "    def update(self, state, action, next_state, reward):\n",
    "        greedy_action = self.greedy(next_state)\n",
    "        self.Q[state,action] += self.alpha*(reward + self.gamma*self.Q[next_state,greedy_action] - self.Q[state,action])\n",
    "\n",
    "    def model_update(self, state, action, next_state, reward):\n",
    "        self.model[state,action] = reward, next_state\n",
    "\n",
    "    def planning(self):\n",
    "        for _ in range(self.planning_n):\n",
    "            state, action = random.sample(self.model.keys(), 1)[0]\n",
    "            reward, next_state = self.model[state,action]\n",
    "            self.update(state, action, next_state, reward)\n",
    "    def reset(self):\n",
    "        self.Q = defaultdict(int)\n",
    "        self.model = defaultdict(int)"
   ],
   "metadata": {
    "collapsed": false,
    "pycharm": {
     "name": "#%%\n"
    }
   }
  },
  {
   "cell_type": "code",
   "execution_count": 65,
   "outputs": [],
   "source": [
    "# Most of the code here are copy paste from DynaQ\n",
    "# Not using inheritance on purpose (to make copy of the class easier)\n",
    "class DynaQPlus:\n",
    "    def __init__(self, alpha=0.1, gamma=0.95, eps=0.2, planning_n = 50, k = 0.001):\n",
    "        self.alpha = alpha\n",
    "        self.gamma = gamma\n",
    "        self.eps = eps\n",
    "        self.planning_n = planning_n\n",
    "        self.action_space = ['up', 'down', 'right', 'left']\n",
    "        self.model = defaultdict(int)\n",
    "        self.Q = defaultdict(int)\n",
    "        self.k = k\n",
    "        # key in both Q and model: tuple((x,y),a)\n",
    "        self.tao_dict = defaultdict(int)\n",
    "\n",
    "    def greedy(self, state):\n",
    "        Q_list = [self.Q[state,a] for a in self.action_space]\n",
    "        _max = max(Q_list)\n",
    "        if _max == 0:\n",
    "            # no actions has been learned\n",
    "            return np.random.choice(self.action_space)\n",
    "        else:\n",
    "            tie_actions = []\n",
    "            for i, q in enumerate(Q_list):\n",
    "                if  q == _max:\n",
    "                    tie_actions.append(self.action_space[i])\n",
    "            return np.random.choice(tie_actions)\n",
    "\n",
    "    def eps_greedy(self, state):\n",
    "        if np.random.random() > self.eps:\n",
    "            action = self.greedy(state)\n",
    "        else:\n",
    "            # return a random action\n",
    "            action = np.random.choice(self.action_space)\n",
    "        for k in self.tao_dict.keys():\n",
    "            if k != (state, action):\n",
    "                self.tao_dict[k] += 1\n",
    "\n",
    "    def update(self, state, action, next_state, reward):\n",
    "        greedy_action = self.greedy(next_state)\n",
    "        self.Q[state,action] += self.alpha*(reward + self.gamma*self.Q[next_state,greedy_action] - self.Q[state,action])\n",
    "\n",
    "    def model_update(self, state, action, next_state, reward):\n",
    "        self.model[state,action] = reward, next_state\n",
    "        \n",
    "    # ------difference of dynaQ+ is here------\n",
    "    def bonus(self, state, action):\n",
    "        return self.k*np.sqrt(self.tao_dict[state,action])\n",
    "    def planning(self):\n",
    "        for _ in range(self.planning_n):\n",
    "            state, action = random.sample(self.model.keys(), 1)[0]\n",
    "            reward, next_state = self.model[state,action]\n",
    "            bonus = self.bonus(state,action)\n",
    "            self.update(state, action, next_state, reward+bonus)\n",
    "            \n",
    "            \n",
    "    # ------difference of dynaQ+ is here------\n",
    "            \n",
    "    def reset(self):\n",
    "        self.Q = defaultdict(int)\n",
    "        self.model = defaultdict(int)\n",
    "        "
   ],
   "metadata": {
    "collapsed": false,
    "pycharm": {
     "name": "#%%\n"
    }
   }
  },
  {
   "cell_type": "code",
   "execution_count": 66,
   "outputs": [],
   "source": [
    "def game(agent):\n",
    "    EXPERIMENT = 5\n",
    "    HIST = []\n",
    "    for experiment in range(EXPERIMENT):\n",
    "        agent.reset()\n",
    "        # set env the one in Figure 8.2 of the book\n",
    "        env = Maze(size = (9,6), blocking_pos=[(3,3), (3,4), (3,5), (6,2), (8,4), (8,5), (8,6)], goal = (9,6))\n",
    "        EPISODE = 100\n",
    "        hist = []\n",
    "        for episode in range(EPISODE):\n",
    "            if episode == 50:\n",
    "                env.blocking_pos.remove((8,6)) \n",
    "            print(f'expeirment {experiment} episode {episode}', end='\\r')\n",
    "            state = (1,4)\n",
    "            for step in range(100000):\n",
    "                action = agent.eps_greedy(state)\n",
    "                reward, next_state = env.step(state,action)\n",
    "                # direct learn\n",
    "                agent.update(state, action, next_state, reward)\n",
    "                agent.model_update(state, action, next_state, reward)\n",
    "                if episode >= 1:\n",
    "                    agent.planning()\n",
    "                state = next_state\n",
    "                if reward == 1:\n",
    "                    hist.append(step)\n",
    "                    break\n",
    "        HIST.append(hist)\n",
    "    HIST = np.mean(HIST, axis = 0)\n",
    "    return HIST"
   ],
   "metadata": {
    "collapsed": false,
    "pycharm": {
     "name": "#%%\n"
    }
   }
  },
  {
   "cell_type": "code",
   "execution_count": 67,
   "outputs": [
    {
     "name": "stdout",
     "output_type": "stream",
     "text": [
      "expeirment 4 episode 99\r"
     ]
    }
   ],
   "source": [
    "# outer loop part\n",
    "HIST_DynaQ_0 = game(DynaQ(planning_n = 0))\n",
    "HIST_DynaQ_5 = game(DynaQ(planning_n = 5))\n",
    "HIST_DynaQ_50 = game(DynaQ(planning_n = 50))"
   ],
   "metadata": {
    "collapsed": false,
    "pycharm": {
     "name": "#%%\n"
    }
   }
  },
  {
   "cell_type": "code",
   "execution_count": 68,
   "outputs": [
    {
     "data": {
      "text/plain": "<Figure size 720x720 with 1 Axes>",
      "image/png": "[encoded data removed]"
     },
     "metadata": {},
     "output_type": "display_data"
    }
   ],
   "source": [
    "# draw part\n",
    "import matplotlib.pyplot as plt\n",
    "plt.style.use('dark_background')\n",
    "plt.figure(figsize=(10, 10))\n",
    "plt.ylim(top=900)\n",
    "plt.title('dynaQ and dynaQ+ in blocking maze', fontsize = 'xx-large')\n",
    "plt.xlabel('Episodes (averaged over 5 experiments)', fontsize = 'xx-large')\n",
    "plt.ylabel('Steps',fontsize = 'xx-large')\n",
    "plt.plot(HIST_DynaQ_0, '-', c = 'blue', label = 'dynaQ 0 steps')\n",
    "plt.plot(HIST_DynaQ_5, '-', c = 'green', label = 'dynaQ 5 steps')\n",
    "plt.plot(HIST_DynaQ_50, '-', c = 'red', label = 'dynaQ 50 steps')\n",
    "plt.legend(loc = 'best', prop = {'size':12})\n",
    "plt.show()"
   ],
   "metadata": {
    "collapsed": false,
    "pycharm": {
     "name": "#%%\n"
    }
   }
  },
  {
   "cell_type": "code",
   "execution_count": null,
   "outputs": [],
   "source": [
    "\n"
   ],
   "metadata": {
    "collapsed": false,
    "pycharm": {
     "name": "#%%\n"
    }
   }
  }
 ],
 "metadata": {
  "kernelspec": {
   "display_name": "Python 3",
   "language": "python",
   "name": "python3"
  },
  "language_info": {
   "codemirror_mode": {
    "name": "ipython",
    "version": 2
   },
   "file_extension": ".py",
   "mimetype": "text/x-python",
   "name": "python",
   "nbconvert_exporter": "python",
   "pygments_lexer": "ipython2",
   "version": "2.7.6"
  }
 },
 "nbformat": 4,
 "nbformat_minor": 0
}