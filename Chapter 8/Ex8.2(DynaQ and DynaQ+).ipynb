{
 "cells": [
  {
   "cell_type": "code",
   "execution_count": null,
   "metadata": {
    "collapsed": true
   },
   "outputs": [],
   "source": [
    "class Maze():\n",
    "    def __init__(self, size, blocking_pos, goal):\n",
    "        \"\"\"\n",
    "\n",
    "        :param size: tuple (width, height)\n",
    "        :param blocking_pos: [(x,y), ...] positions of blocking mazes.\n",
    "                             Here, expect lower left corner as origin and start from 1\n",
    "        :param goal: (x,y) position of goal\n",
    "\n",
    "        Example:\n",
    "        size = (3,3)\n",
    "        blocking_pos = [(1,1)]\n",
    "        goal = (3,3)\n",
    "\n",
    "        Result Maze:\n",
    "        0 0 g\n",
    "        0 0 0\n",
    "        1 0 0\n",
    "        where 1 is blocking block and g is the goal\n",
    "        \"\"\"\n",
    "        self.width, self.height = size\n",
    "        self.blocking_pos = blocking_pos\n",
    "        self.goal = goal\n",
    "\n",
    "    def step(self, action):\n",
    "        \"\"\"\n",
    "\n",
    "        :param action: action from ['up', 'down', 'right', 'left']\n",
    "        :return: reward, next_state\n",
    "        \"\"\"\n",
    "        if action == 'up':\n",
    "\n",
    "\n",
    "\n"
   ]
  }
 ],
 "metadata": {
  "kernelspec": {
   "display_name": "Python 3",
   "language": "python",
   "name": "python3"
  },
  "language_info": {
   "codemirror_mode": {
    "name": "ipython",
    "version": 2
   },
   "file_extension": ".py",
   "mimetype": "text/x-python",
   "name": "python",
   "nbconvert_exporter": "python",
   "pygments_lexer": "ipython2",
   "version": "2.7.6"
  }
 },
 "nbformat": 4,
 "nbformat_minor": 0
}