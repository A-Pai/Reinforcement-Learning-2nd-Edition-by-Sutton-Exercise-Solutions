{
 "cells": [
  {
   "cell_type": "code",
   "execution_count": 36,
   "outputs": [],
   "source": [
    "from collections import defaultdict\n",
    "import numpy as np\n",
    "import random"
   ],
   "metadata": {
    "collapsed": false,
    "pycharm": {
     "name": "#%%\n"
    }
   }
  },
  {
   "cell_type": "code",
   "execution_count": 6,
   "metadata": {
    "collapsed": true
   },
   "outputs": [],
   "source": [
    "class Maze():\n",
    "    def __init__(self, size, blocking_pos, goal):\n",
    "        \"\"\"\n",
    "\n",
    "        :param size: tuple (width, height)\n",
    "        :param blocking_pos: [(x,y), ...] positions of blocking mazes.\n",
    "                             Here, expect lower left corner as origin and start from 1\n",
    "        :param goal: (x,y) position of goal\n",
    "\n",
    "        Example:\n",
    "        size = (3,3)\n",
    "        blocking_pos = [(1,1)]\n",
    "        goal = (3,3)\n",
    "\n",
    "        Result Maze:\n",
    "        0 0 g\n",
    "        0 0 0\n",
    "        1 0 0\n",
    "        where 1 is blocking block and g is the goal\n",
    "        \"\"\"\n",
    "        self.width, self.height = size\n",
    "        self.blocking_pos = blocking_pos\n",
    "        self.goal = goal\n",
    "\n",
    "    def step(self, current_state, action):\n",
    "        \"\"\"\n",
    "        :param current_state: (x,y) current pos\n",
    "        :param action: action from ['up', 'down', 'right', 'left']\n",
    "        :return: reward, next_state\n",
    "        \"\"\"\n",
    "        x, y = current_state\n",
    "        dx, dy = 0, 0\n",
    "        if action == 'up':\n",
    "            dy = 1\n",
    "        elif action == 'down':\n",
    "            dy = -1\n",
    "        elif action == 'left':\n",
    "            dx = -1\n",
    "        elif action == 'right':\n",
    "            dx = 1\n",
    "        else:\n",
    "            raise ValueError\n",
    "\n",
    "        # make sure they are in bound\n",
    "        x_change = max(self.width, min(0, x+dx))\n",
    "        y_change = max(self.height, min(0, y+dy))\n",
    "\n",
    "        # make sure they are not blocked\n",
    "        if (x_change, y_change) in self.blocking_pos:\n",
    "            # rollback\n",
    "            x_change, y_change = x,y\n",
    "\n",
    "        # check goal\n",
    "        if (x_change, y_change) == self.goal:\n",
    "            reward = 0\n",
    "        else:\n",
    "            reward = 1\n",
    "\n",
    "        return reward, (x_change, y_change)"
   ]
  },
  {
   "cell_type": "code",
   "execution_count": 41,
   "outputs": [],
   "source": [
    "class DynaQ:\n",
    "    def __init__(self, alpha=0.1, gamma=0.95, eps=0.1, planning_n = 50):\n",
    "        self.alpha = alpha\n",
    "        self.gamma = gamma\n",
    "        self.eps = eps\n",
    "        self.planning_n = planning_n\n",
    "        self.action_space = ['up', 'down', 'right', 'left']\n",
    "        self.model = defaultdict(int)\n",
    "        self.state_encountered = {}\n",
    "        self.Q = defaultdict(int)\n",
    "        # key in both Q and model: tuple((x,y),a)\n",
    "\n",
    "    def greedy(self, state):\n",
    "        Q_list = [self.Q[state,a] for a in self.action_space]\n",
    "        return self.action_space[np.argmax(Q_list)]\n",
    "\n",
    "    def eps_greedy(self, state):\n",
    "        if np.random.random() > self.eps:\n",
    "            return self.greedy(state)\n",
    "        else:\n",
    "            # return a random action\n",
    "            return np.random.choice(self.action_space)\n",
    "\n",
    "    def update(self, state, action, next_state, reward):\n",
    "        greedy_action = self.greedy(next_state)\n",
    "        self.Q[state,action] += self.alpha*(reward + self.gamma*self.Q[next_state,greedy_action] - self.Q[state,action])\n",
    "\n",
    "    def model_update(self, state, action, next_state, reward):\n",
    "        self.model[state,action] = reward, next_state\n",
    "\n",
    "    def planning(self):\n",
    "        for _ in range(self.planning_n):\n",
    "            state, action = random.sample(self.model.keys(), 1)[0]\n",
    "            reward, next_state = self.model[state,action]\n",
    "            self.update(state, action, next_state, reward)"
   ],
   "metadata": {
    "collapsed": false,
    "pycharm": {
     "name": "#%%\n"
    }
   }
  },
  {
   "cell_type": "code",
   "execution_count": null,
   "outputs": [],
   "source": [
    "import matplotlib.pyplot as plt\n",
    "agent = DynaQ()\n",
    "# set env the one in Figure 8.2 of the book\n",
    "env = Maze(size = (9,6), blocking_pos=[(3,3), (3,4), (3,5), (6,2), (8,4), (8,5), (8,6), (8,7)], goal = (9,6))\n",
    "EPISODE = 50\n",
    "hist = []\n",
    "for episode in range(EPISODE):\n",
    "    state = (1,4)\n",
    "    for step in range(100000):\n",
    "        action = agent.eps_greedy(state)\n",
    "        reward, next_state = env.step(state,action)\n",
    "        # direct learn\n",
    "        agent.update(state, action, next_state, reward)\n",
    "        agent.model_update(state, action, next_state, reward)\n",
    "        agent.planning()\n",
    "        state = next_state\n",
    "        if reward == 1:\n",
    "            hist.append(step)\n",
    "            break"
   ],
   "metadata": {
    "collapsed": false,
    "pycharm": {
     "name": "#%%\n",
     "is_executing": true
    }
   }
  },
  {
   "cell_type": "code",
   "execution_count": 28,
   "outputs": [
    {
     "data": {
      "text/plain": "[<matplotlib.lines.Line2D at 0x7f816b398810>]"
     },
     "execution_count": 28,
     "metadata": {},
     "output_type": "execute_result"
    },
    {
     "data": {
      "text/plain": "<Figure size 432x288 with 1 Axes>",
      "image/png": "[encoded data removed]"
     },
     "metadata": {
      "needs_background": "light"
     },
     "output_type": "display_data"
    }
   ],
   "source": [
    "plt.plot(hist)"
   ],
   "metadata": {
    "collapsed": false,
    "pycharm": {
     "name": "#%%\n"
    }
   }
  },
  {
   "cell_type": "code",
   "execution_count": null,
   "outputs": [],
   "source": [
    "\n"
   ],
   "metadata": {
    "collapsed": false,
    "pycharm": {
     "name": "#%%\n"
    }
   }
  }
 ],
 "metadata": {
  "kernelspec": {
   "display_name": "Python 3",
   "language": "python",
   "name": "python3"
  },
  "language_info": {
   "codemirror_mode": {
    "name": "ipython",
    "version": 2
   },
   "file_extension": ".py",
   "mimetype": "text/x-python",
   "name": "python",
   "nbconvert_exporter": "python",
   "pygments_lexer": "ipython2",
   "version": "2.7.6"
  }
 },
 "nbformat": 4,
 "nbformat_minor": 0
}